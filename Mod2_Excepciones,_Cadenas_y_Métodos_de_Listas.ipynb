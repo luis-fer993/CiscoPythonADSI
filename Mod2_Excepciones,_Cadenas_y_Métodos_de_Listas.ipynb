{
  "cells": [
    {
      "cell_type": "markdown",
      "metadata": {
        "id": "view-in-github",
        "colab_type": "text"
      },
      "source": [
        "<a href=\"https://colab.research.google.com/github/luis-fer993/CiscoPythonADSI/blob/master/Mod2_Excepciones%2C_Cadenas_y_M%C3%A9todos_de_Listas.ipynb\" target=\"_parent\"><img src=\"https://colab.research.google.com/assets/colab-badge.svg\" alt=\"Open In Colab\"/></a>"
      ]
    },
    {
      "cell_type": "markdown",
      "metadata": {
        "id": "swotLbegprQi"
      },
      "source": [
        "# Mod2-Excepciones, Cadenas y Métodos de Listas"
      ]
    },
    {
      "cell_type": "markdown",
      "metadata": {
        "id": "L2q5cRuMprQu"
      },
      "source": [
        "#### Operaciones con cadenas: ord()\n",
        "Si deseas saber el valor del punto de código ASCII/UNICODE de un carácter específico, puedes usar la función ord() (proveniente de ordinal).\n",
        "\n",
        "La función necesita una cadena de un carácter como argumento - incumplir este requisito provoca una excepción TypeError, y devuelve un número que representa el punto de código del argumento.\n",
        "\n",
        "```py\n",
        "char_1 = 'a'\n",
        "char_2 = ' '  # space\n",
        "\n",
        "print(ord(char_1)) #97\n",
        "print(ord(char_2)) #32\n",
        "```\n",
        "Si conoces el punto de código (número) y deseas obtener el carácter correspondiente, \n",
        "puedes usar la función `llamada chr().`\n",
        "\n",
        "La función toma un punto de código y devuelve su carácter.\n",
        "```py\n",
        "print(chr(97))\n",
        "print(chr(945))\n",
        "```"
      ]
    },
    {
      "cell_type": "code",
      "execution_count": null,
      "metadata": {
        "id": "rX1HHid0prQz"
      },
      "outputs": [],
      "source": [
        "alphabet = \"abcdefghijklmnopqrstuvwxyz\"\n",
        "\n",
        "print(\"f\" in alphabet)\n",
        "print(\"F\" in alphabet)\n",
        "print(\"F\" not in alphabet)\n",
        "print(\"1\" not in alphabet)"
      ]
    },
    {
      "cell_type": "code",
      "execution_count": null,
      "metadata": {
        "id": "1VvdQktQprQ3"
      },
      "outputs": [],
      "source": [
        "alphabet = \"bcdefghijklmnopqrstuvwxy\"\n",
        "\n",
        "alphabet = \"a\" + alphabet\n",
        "alphabet = alphabet + \"z\"\n",
        "\n",
        "print(alphabet)"
      ]
    },
    {
      "cell_type": "markdown",
      "metadata": {
        "id": "39ib38pcprQ4"
      },
      "source": [
        "Operaciones con cadenas: el método index()\n",
        "El método index() (es un método, no una función) busca la secuencia desde el principio, para encontrar el primer elemento del valor especificado en su argumento."
      ]
    },
    {
      "cell_type": "code",
      "execution_count": null,
      "metadata": {
        "id": "H6kmyCulprQ6",
        "outputId": "5c61e5d4-ea88-4f46-912b-20fdae0ac1f5"
      },
      "outputs": [
        {
          "name": "stdout",
          "output_type": "stream",
          "text": [
            "2\n",
            "7\n",
            "1\n"
          ]
        }
      ],
      "source": [
        "# Demonstrando el método index():\n",
        "print(\"aAbByYzZaA\".index(\"b\"))\n",
        "print(\"aAbByYzZaA\".index(\"Z\"))\n",
        "print(\"aAbByYzZaA\".index(\"A\"))"
      ]
    },
    {
      "cell_type": "markdown",
      "metadata": {
        "id": "17RUOgw7prQ_"
      },
      "source": [
        "#### Operaciones con cadenas: el método count()\n",
        "El método count() cuenta todas las apariciones del elemento dentro de la secuencia. La ausencia de tal elemento no causa ningún problema.\n",
        "\n",
        "Observa el segundo ejemplo en el editor. ¿Puedes adivinar su salida?"
      ]
    },
    {
      "cell_type": "code",
      "execution_count": null,
      "metadata": {
        "id": "phRzo98RprRB"
      },
      "outputs": [],
      "source": [
        "# Demostración de la función list():\n",
        "print(list(\"abcabc\"))\n",
        "\n",
        "# Demostración de la función list():\n",
        "print(\"abcabc\".count(\"b\"))\n",
        "print('abcabc'.count(\"d\"))"
      ]
    },
    {
      "cell_type": "code",
      "execution_count": null,
      "metadata": {
        "id": "cwFDWnkNprRE"
      },
      "outputs": [],
      "source": [
        "\n",
        "print('aBcD'.capitalize())"
      ]
    },
    {
      "cell_type": "code",
      "execution_count": null,
      "metadata": {
        "id": "k81-kdqBprRH"
      },
      "outputs": [],
      "source": [
        "# Demostración del método center():\n",
        "print('[' + 'alpha'.center(10,'*') + ']')\n"
      ]
    },
    {
      "cell_type": "markdown",
      "metadata": {
        "id": "GRaQXJ6QprRK"
      },
      "source": [
        "#### El método endswith()\n",
        " comprueba si la cadena dada termina con el argumento especificado y devuelve True(verdadero) o False(falso), dependiendo del resultado."
      ]
    },
    {
      "cell_type": "code",
      "execution_count": null,
      "metadata": {
        "id": "-bxPmNzsprRS"
      },
      "outputs": [],
      "source": [
        "t = \"zeta\"\n",
        "print(t.endswith(\"a\"))\n",
        "print(t.endswith(\"A\"))\n",
        "print(t.endswith(\"et\"))\n",
        "print(t.endswith(\"eta\"))\n",
        "\n"
      ]
    },
    {
      "cell_type": "markdown",
      "metadata": {
        "id": "MLgqOoYyprRZ"
      },
      "source": [
        "#### El método find() \n",
        "es similar al método index(), el cual ya conoces - busca una subcadena y devuelve el índice de la primera aparición de esta subcadena, pero:"
      ]
    },
    {
      "cell_type": "code",
      "execution_count": null,
      "metadata": {
        "id": "9eqc2mvMprRb"
      },
      "outputs": [],
      "source": [
        "t = 'theta'\n",
        "print(t.find('eta'))\n",
        "print(t.find('et'))\n",
        "print(t.find('the'))\n",
        "print(t.find('ha'))\n",
        "\n"
      ]
    },
    {
      "cell_type": "markdown",
      "metadata": {
        "id": "LQfLrMCTprRc"
      },
      "source": [
        "#### El método sin parámetros llamado isalnum()\n",
        " comprueba si la cadena contiene solo dígitos o caracteres alfabéticos (letras) y devuelve True(verdadero) o False(falso) de acuerdo al resultado."
      ]
    },
    {
      "cell_type": "code",
      "execution_count": null,
      "metadata": {
        "id": "RIKg6dxbprRe"
      },
      "outputs": [],
      "source": [
        "# Demostración del método the isalnum():\n",
        "print('lambda30'.isalnum())\n",
        "print('lambda'.isalnum())\n",
        "print('30'.isalnum())\n",
        "print('@'.isalnum())\n",
        "print('lambda_30'.isalnum())\n",
        "print(''.isalnum())\n"
      ]
    },
    {
      "cell_type": "markdown",
      "metadata": {
        "id": "pgOaNQa4prRh"
      },
      "source": [
        "##### El método isalpha()\n",
        "El método isalpha() es más especializado, se interesa en letras solamente.\n",
        "\n",
        "\n",
        "#### El método isdigit()\n",
        "Al contrario, el método isdigit() busca solo dígitos - cualquier otra cosa produce False(falso) como resultado."
      ]
    },
    {
      "cell_type": "code",
      "execution_count": null,
      "metadata": {
        "id": "csQIfiSwprRj"
      },
      "outputs": [],
      "source": [
        "# Ejemplo 1: Demostración del método isapha():\n",
        "print(\"Moooo\".isalpha())\n",
        "print('Mu40'.isalpha())\n",
        "\n",
        "# Ejemplo 2: Demostración del método isdigit():\n",
        "print('2018'.isdigit())\n",
        "print(\"Year2019\".isdigit())\n"
      ]
    },
    {
      "cell_type": "markdown",
      "metadata": {
        "id": "hJ68FoIvprRl"
      },
      "source": [
        "##### El método islower()\n",
        " es una variante de isalpha() - solo acepta letras minúsculas\n",
        "\n",
        "##### El método isspace()\n",
        "El método isspace() identifica espacios en blanco solamente - no tiene en cuenta ningún otro carácter (el resultado es entonces False).\n",
        "\n",
        "##### El método isupper()\n",
        "El método isupper() es la versión en mayúscula de islower() - se concentra solo en letras mayúsculas."
      ]
    },
    {
      "cell_type": "code",
      "execution_count": null,
      "metadata": {
        "id": "QHdfiu2tprRl"
      },
      "outputs": [],
      "source": [
        "# Ejemplo 1: Demostración del método islower():\n",
        "print(\"Moooo\".islower())\n",
        "print('moooo'.islower())\n",
        "\n",
        "# Ejemplo 2: Demostración del método isspace(:\n",
        "print(' \\n '.isspace())\n",
        "print(\" \".isspace())\n",
        "print(\"mooo mooo mooo\".isspace())\n",
        "\n",
        "# Ejemplo 3: Demostración del método isupper():\n",
        "print(\"Moooo\".isupper())\n",
        "print('moooo'.isupper())\n",
        "print('MOOOO'.isupper())\n"
      ]
    },
    {
      "cell_type": "markdown",
      "metadata": {
        "id": "dZTdj1aqprRm"
      },
      "source": [
        "#### El método join()\n",
        " es algo complicado, así que déjanos guiarte paso a paso:\n",
        "\n",
        "Como su nombre lo indica, el método realiza una unión y espera un argumento del tipo lista; se debe asegurar que todos los elementos de la lista sean cadenas: de lo contrario, el método generará una excepción TypeError.\n",
        "Todos los elementos de la lista serán unidos en una sola cadena pero...\n",
        "... la cadena desde la que se ha invocado el método será utilizada como separador, puesta entre las cadenas.\n",
        "La cadena recién creada se devuelve como resultado.\n"
      ]
    },
    {
      "cell_type": "code",
      "execution_count": null,
      "metadata": {
        "id": "7lQSoBA3prRn"
      },
      "outputs": [],
      "source": [
        "# Demonstrating the join() method:\n",
        "print(\",\".join([\"omicron\", \"pi\", \"rho\"]))\n"
      ]
    },
    {
      "cell_type": "code",
      "execution_count": null,
      "metadata": {
        "id": "E1VRrXwQprRo"
      },
      "outputs": [],
      "source": [
        "# Demostración del método lower():\n",
        "print(\"SiGmA=60\".lower())"
      ]
    },
    {
      "cell_type": "code",
      "execution_count": null,
      "metadata": {
        "id": "l3cSwemLprRq"
      },
      "outputs": [],
      "source": [
        "print(\"www.cisco.com\".lstrip(\"w.\"))"
      ]
    },
    {
      "cell_type": "markdown",
      "metadata": {
        "id": "_kWzDzB1prRr"
      },
      "source": [
        "##### El método replace() \n",
        "con dos parámetros devuelve una copia de la cadena original en la que todas las apariciones del primer argumento han sido reemplazadas por el segundo argumento.\n",
        "\n",
        "La variante del método replace() con tres parámetros emplea un tercer argumento (un número) para limitar el número de reemplazos."
      ]
    },
    {
      "cell_type": "code",
      "execution_count": null,
      "metadata": {
        "id": "SVNS4PejprRs"
      },
      "outputs": [],
      "source": [
        "# Demostración del método replace():\n",
        "print(\"www.netacad.com\".replace(\"netacad.com\", \"pythoninstitute.org\"))\n",
        "print(\"This is it!\".replace(\"is\", \"are\", 1))\n",
        "print(\"This is it!\".replace(\"is\", \"are\", 2))\n",
        "\n",
        "\n"
      ]
    },
    {
      "cell_type": "markdown",
      "metadata": {
        "id": "ebExDobTprRt"
      },
      "source": [
        "Los métodos de uno, dos y tres parámetros denominados rfind() hacen casi lo mismo que sus contrapartes (las que carecen del prefijo r), pero comienzan sus búsquedas desde el final de la cadena, no el principio (de ahí el prefijo r, de reversa).\n",
        "\n",
        "\n",
        "Dos variantes del método rstrip() hacen casi lo mismo que el método lstrip, pero afecta el lado opuesto de la cadena.\n",
        "```py\n",
        "# Demostración del método rfind():\n",
        "print(\"tau tau tau\".rfind(\"ta\"))\n",
        "print(\"tau tau tau\".rfind(\"ta\", 9))\n",
        "print(\"tau tau tau\".rfind(\"ta\", 3, 9))\n",
        "\n",
        "# Demostración del método rstrip():\n",
        "print(\"[\" + \" upsilon \".rstrip() + \"]\")\n",
        "print(\"cisco.com\".rstrip(\".com\"))\n",
        "\n",
        "\n",
        "```"
      ]
    },
    {
      "cell_type": "markdown",
      "metadata": {
        "id": "mwPzPXtGprRw"
      },
      "source": [
        "##### El método split()\n",
        "El método split() divide la cadena y crea una lista de todas las subcadenas detectadas.\n",
        "\n",
        "El método asume que las subcadenas están delimitadas por espacios en blanco - los espacios no participan en la operación y no se copian en la lista resultante."
      ]
    },
    {
      "cell_type": "code",
      "execution_count": null,
      "metadata": {
        "id": "HMPVysTHprRx"
      },
      "outputs": [],
      "source": [
        "# Demostración del método split():\n",
        "print(\"phi       chi\\npsi\".split())\n"
      ]
    },
    {
      "cell_type": "markdown",
      "metadata": {
        "id": "e_xfjtXfprRy"
      },
      "source": [
        "El método startswith() es un espejo del método endswith() - comprueba si una cadena dada comienza con la subcadena especificada."
      ]
    },
    {
      "cell_type": "code",
      "execution_count": null,
      "metadata": {
        "id": "2wFpU6gFprR0"
      },
      "outputs": [],
      "source": [
        "# Demostración del método startswith():\n",
        "print(\"omega\".startswith(\"meg\"))\n",
        "print(\"omega\".startswith(\"om\"))\n",
        "\n",
        "print()\n",
        "\n",
        "# Demostración del método strip():\n",
        "print(\"[\" + \"   aleph   \".strip() + \"]\")\n"
      ]
    },
    {
      "cell_type": "code",
      "execution_count": null,
      "metadata": {
        "id": "-FNxJ7u5prR2"
      },
      "outputs": [],
      "source": [
        "# Demostración del método swapcase():\n",
        "print(\"Yo sé que no sé nada.\".swapcase())\n",
        "\n",
        "print()\n",
        "\n",
        "# Demostración del método title():\n",
        "print(\"Yo sé que no sé nada. Part 1.\".title())\n",
        "\n",
        "print()\n",
        "\n",
        "# Demostración del método upper():\n",
        "print(\"Yo sé que no sé nada. Part 2.\".upper())\n"
      ]
    },
    {
      "cell_type": "markdown",
      "metadata": {
        "id": "f102DBnXprR2"
      },
      "source": [
        "```py\n",
        "def mysplit(strng):\n",
        "    # devolver [] si la cadena está vacía o solo contiene espacios en blanco\n",
        "    \n",
        "    # preparar una lista para devolver\n",
        "\n",
        "    # preparar una palabra para construir palabras subsecuentes\n",
        "\n",
        "    # verificar si actualmente estamos dentro de una palabra (es decir, si la cadena comienza con una palabra)\n",
        "\n",
        "    # iterar a través de todos los caracteres en cadena\n",
        "\n",
        "        # si actualmente estamos dentro de una cadena ...\n",
        "\n",
        "            # ... y el carácter actual no es un espacio ...\n",
        "\n",
        "                # ... actualizar palabra actual\n",
        "\n",
        "                # ... de lo contrario, llegamos al final de la palabra, por lo que debemos agregarla a la lista ...\n",
        "\n",
        "                # ... y señalar que estamos ahora fuera de la palabra\n",
        "\n",
        "            # si estamos fuera de la palabra y llegamos a un carácter no que no es un espacio en blanco\n",
        "\n",
        "                # ... significa que ha comenzado una nueva palabra, por lo que debemos recordarla y ...\n",
        "\n",
        "                # ... almacenar la primera letra de la nueva palabra\n",
        "\n",
        "    # si hemos dejado la cadena y hay una cadena no vacía en la palabra, necesitamos actualizar la lista\n",
        "\n",
        "    # devolver la lista al invocador\n"
      ]
    },
    {
      "cell_type": "code",
      "execution_count": null,
      "metadata": {
        "id": "SxWoO_ouprR3"
      },
      "outputs": [],
      "source": [
        "def mysplit(strng):\n",
        "    # devolver [] si la cadena está vacía o solo contiene espacios en blanco\n",
        "    if strng == '' or strng.isspace():\n",
        "        return [ ]\n",
        "    # preparar una lista para devolver\n",
        "    lst = []\n",
        "    # preparar una palabra para construir palabras subsecuentes\n",
        "    word = ''\n",
        "    # verificar si actualmente estamos dentro de una palabra (es decir, si la cadena comienza con una palabra)\n",
        "    inword = not strng[0].isspace()\n",
        "    # iterar a través de todos los caracteres en cadena\n",
        "    for x in strng:\n",
        "         # si actualmente estamos dentro de una cadena ...\n",
        "        if inword:\n",
        "            # ... y el carácter actual no es un espacio ...\n",
        "            if not x.isspace():\n",
        "                # ... actualizar palabra actual\n",
        "                word = word + x\n",
        "            else:\n",
        "                # ... de lo contrario, llegamos al final de la palabra, por lo que debemos agregarla a la lista ...\n",
        "                lst.append(word)\n",
        "                # ... y señalar que estamos ahora fuera de la palabra\n",
        "                inword = False\n",
        "        else:\n",
        "            # si estamos fuera de la palabra y llegamos a un carácter no que no es un espacio en blanco\n",
        "            if not x.isspace():\n",
        "                # ... significa que ha comenzado una nueva palabra, por lo que debemos recordarla y ...\n",
        "                inword = True\n",
        "                 # ... almacenar la primera letra de la nueva palabra\n",
        "                word = x\n",
        "            else:\n",
        "                pass\n",
        "       # si hemos dejado la cadena y hay una cadena no vacía en la variable word, necesitamos actualizar la lista\n",
        "    if inword:\n",
        "        lst.append(word)\n",
        "    # devolver la lista a invocador\n",
        "    return lst"
      ]
    },
    {
      "cell_type": "code",
      "execution_count": null,
      "metadata": {
        "id": "JzMhFKVdprR4"
      },
      "outputs": [],
      "source": [
        "def mysplit(strng):\n",
        "    if type(strng)==str:\n",
        "        lista=[]\n",
        "        for i in range(len(strng)):\n",
        "            print(strng[i])\n",
        "            if strng[i]==\" \":\n",
        "                lista.append(strng[:i])\n",
        "                strng=strng[i+1:]\n",
        "                return lista   \n",
        "            \n",
        "    else:\n",
        "        exception = TypeError(\"El argumento debe ser una cadena\")\n",
        "        raise exception\n",
        "\n",
        "\n",
        "print(mysplit(\"Ser o no ser, esa es la pregunta\"))\n",
        "print(mysplit(\"Ser o no ser,esa es la pregunta\"))\n",
        "print(mysplit(\"   \"))\n",
        "print(mysplit(\" abc \"))\n",
        "print(mysplit(''))\n"
      ]
    },
    {
      "cell_type": "code",
      "execution_count": null,
      "metadata": {
        "id": "rqIVFVsJprR6"
      },
      "outputs": [],
      "source": [
        "\n",
        "\n",
        "def writefile(filename, content):\n",
        "    try:\n",
        "        with open(filename, \"w\") as f:\n",
        "            f.write(content)\n",
        "    except:\n",
        "        print(\"Error al escribir el archivo\")\n",
        "\n",
        "writefile(\"test.txt\", \"Hola mundo\")\n"
      ]
    },
    {
      "cell_type": "code",
      "execution_count": null,
      "metadata": {
        "id": "ybnrzLEuprR6"
      },
      "outputs": [],
      "source": [
        "def udpatefile(filename, content):\n",
        "    try:\n",
        "        with open(filename, \"a\") as f:\n",
        "            f.write(content)\n",
        "    except:\n",
        "        print(\"Error al escribir el archivo\")\n",
        "\n",
        "udpatefile(\"test.txt\", \"Hola mundo\")"
      ]
    },
    {
      "cell_type": "code",
      "execution_count": null,
      "metadata": {
        "id": "u0R6Ib-QprR7",
        "outputId": "9f7ab17b-e70a-4d7c-c34a-1305ddbd6f78"
      },
      "outputs": [
        {
          "name": "stdout",
          "output_type": "stream",
          "text": [
            "Hola mundo\n"
          ]
        }
      ],
      "source": [
        "def printcontent(filename):\n",
        "    try:\n",
        "        with open(filename, \"r\") as f:\n",
        "            print(f.read())\n",
        "    except:\n",
        "        print(\"Error al leer el archivo\")\n",
        "\n",
        "printcontent(\"test.txt\")"
      ]
    },
    {
      "cell_type": "code",
      "execution_count": null,
      "metadata": {
        "id": "EkjMAhXGprR-",
        "outputId": "ce39c86d-fc82-4133-8800-c63b4333b379"
      },
      "outputs": [
        {
          "name": "stdout",
          "output_type": "stream",
          "text": [
            "5\n"
          ]
        }
      ],
      "source": [
        "def find_max(numbs):\n",
        "    max_num = float(\"-inf\")\n",
        "    for num in numbs:\n",
        "        if num > max_num:\n",
        "            max_num = num\n",
        "    return max_num\n",
        "\n",
        "print(find_max([1, 2, 3, 4, 5]))"
      ]
    },
    {
      "cell_type": "markdown",
      "source": [
        "##### **Ordenamiento** \n",
        "\n",
        "la forma de oredenar una lista se puede reslizar con la funcion: *sorted()* o sort(), toma una lista comoargumento y devuelve una ordenanda.\n"
      ],
      "metadata": {
        "id": "iDmFnV36p3Ra"
      }
    },
    {
      "cell_type": "code",
      "source": [
        "# Demostración de la función sorted():\n",
        "first_greek = ['omega', 'alpha', 'pi', 'gamma']\n",
        "first_greek_2 = sorted(first_greek)\n",
        "\n",
        "print(first_greek)\n",
        "print(first_greek_2)\n",
        "\n",
        "print()\n",
        "\n",
        "# Demostración del método sort():\n",
        "second_greek = ['omega', 'alpha', 'pi', 'gamma']\n",
        "print(second_greek)\n",
        "\n",
        "second_greek.sort()\n",
        "print(second_greek)\n"
      ],
      "metadata": {
        "id": "EiSMcOVZp230"
      },
      "execution_count": null,
      "outputs": []
    },
    {
      "cell_type": "markdown",
      "source": [
        "#### Ejemplo display de siete segemento curso.\n"
      ],
      "metadata": {
        "id": "71WIWxG1tf2w"
      }
    },
    {
      "cell_type": "code",
      "source": [
        "digits = [ '1111110',  \t# 0\n",
        "\t   '0110000',\t# 1\n",
        "\t   '1101101',\t# 2\n",
        "\t   '1111001',\t# 3\n",
        "\t   '0110011',\t# 4\n",
        "\t   '1011011',\t# 5\n",
        "\t   '1011111',\t# 6\n",
        "\t   '1110000',\t# 7\n",
        "\t   '1111111',\t# 8\n",
        "\t   '1111011',\t# 9\n",
        "\t   ]\n",
        "\n",
        "\n",
        "def print_number(num):\n",
        "\tglobal digits\n",
        "\tdigs = str(num)\n",
        "\tlines = [ '' for lin in range(5) ]\n",
        "\tfor d in digs:\n",
        "\t\tsegs = [ [' ',' ',' '] for lin in range(5) ]\n",
        "\t\tptrn = digits[ord(d) - ord('0')]\n",
        "\t\tif ptrn[0] == '1':\n",
        "\t\t\tsegs[0][0] = segs[0][1] = segs[0][2] = '#'\n",
        "\t\tif ptrn[1] == '1':\n",
        "\t\t\tsegs[0][2] = segs[1][2] = segs[2][2] = '#'\n",
        "\t\tif ptrn[2] == '1':\n",
        "\t\t\tsegs[2][2] = segs[3][2] = segs[4][2] = '#'\n",
        "\t\tif ptrn[3] == '1':\n",
        "\t\t\tsegs[4][0] = segs[4][1] = segs[4][2] = '#'\n",
        "\t\tif ptrn[4] == '1':\n",
        "\t\t\tsegs[2][0] = segs[3][0] = segs[4][0] = '#'\n",
        "\t\tif ptrn[5] == '1':\n",
        "\t\t\tsegs[0][0] = segs[1][0] = segs[2][0] = '#'\n",
        "\t\tif ptrn[6] == '1':\n",
        "\t\t\tsegs[2][0] = segs[2][1] = segs[2][2] = '#'\n",
        "\t\tfor lin in range(5):\n",
        "\t\t\tlines[lin] += ''.join(segs[lin]) + ' '\n",
        "\tfor lin in lines:\n",
        "\t\tprint(lin)\n",
        "\n",
        "\n",
        "print_number(int(input(\"Ingresa el número que deseas mostrar: \")))\n"
      ],
      "metadata": {
        "id": "TL-jvEo4rUBs"
      },
      "execution_count": null,
      "outputs": []
    },
    {
      "cell_type": "markdown",
      "source": [
        "#### El Cifrado César: encriptando un mensaje.\n",
        "\n",
        "[https://en.wikipedia.org/wiki/Caesar_cipher.](https://en.wikipedia.org/wiki/Caesar_cipher.)\n",
        "\n",
        "\n",
        "Este cifrado fue (probablemente) inventado y utilizado por Cayo Julio César y sus tropas durante las Guerras Galas. La idea es bastante simple: cada letra del mensaje se reemplaza por su consecuente más cercano (A se convierte en B, B se convierte en C, y así sucesivamente). La única excepción es la Z, la cual se convierte en A.\n",
        "\n",
        "\n",
        "    La línea 02: pide al usuario que ingrese un mensaje (sin cifrar) de una línea.\n",
        "    La línea 03: prepara una cadena para el mensaje cifrado (esta vacía por ahora).\n",
        "    La línea 04: inicia la iteración a través del mensaje.\n",
        "    La línea 05: si el carácter actual no es alfabético...\n",
        "    La línea 06: ...ignoralo.\n",
        "    La línea 07: convierta la letra a mayúsculas (es preferible hacerlo a ciegas, en lugar de verificar si es necesario o no).\n",
        "    La línea 08: obtén el código de la letra e increméntalo en uno.\n",
        "    La línea 09: si el código resultante ha \"dejado\" el alfabeto latino (si es mayor que el código de la Z)...\n",
        "    La línea 10: ... cámbialo al código de la A.\n",
        "    La línea 11: agrega el carácter recibido al final del mensaje cifrado.\n",
        "    La línea 13: imprime el cifrado.\n",
        "\n",
        "\n"
      ],
      "metadata": {
        "id": "UrqdB57vtzSQ"
      }
    },
    {
      "cell_type": "code",
      "source": [
        "# Cifrado César.\n",
        "text = input(\"Ingresa tu mensaje: \")\n",
        "cipher = ''\n",
        "for char in text:\n",
        "    if not char.isalpha():\n",
        "        continue\n",
        "    char = char.upper()\n",
        "    code = ord(char) + 1\n",
        "    if code > ord('Z'):\n",
        "        code = ord('A')\n",
        "    cipher += chr(code)\n",
        "\n",
        "print(cipher)\n"
      ],
      "metadata": {
        "id": "DASGUVSNunfX",
        "outputId": "81c3fa9d-4d67-4d6f-a1d0-8d918e059a11",
        "colab": {
          "base_uri": "https://localhost:8080/"
        }
      },
      "execution_count": null,
      "outputs": [
        {
          "output_type": "stream",
          "name": "stdout",
          "text": [
            "Ingresa tu mensaje: texto seguro\n",
            "UFYUPTFHVSP\n"
          ]
        }
      ]
    },
    {
      "cell_type": "markdown",
      "source": [
        "#### El Cifrado César: descifrando un mensaje"
      ],
      "metadata": {
        "id": "MMvQGOn8wVmb"
      }
    },
    {
      "cell_type": "code",
      "source": [
        "# Cifrado César - descifrar un mensaje.\n",
        "cipher = input('Ingresa tu criptograma: ')\n",
        "text = ''\n",
        "for char in cipher:\n",
        "    if not char.isalpha():\n",
        "        continue\n",
        "    char = char.upper()\n",
        "    code = ord(char) - 1\n",
        "    if code < ord('A'):\n",
        "        code = ord('Z')\n",
        "    text += chr(code)\n",
        "\n",
        "print(text)\n"
      ],
      "metadata": {
        "id": "wl3cQnoWwYpq",
        "outputId": "a1c42ffa-35ff-4595-a8c4-3c42d011d51a",
        "colab": {
          "base_uri": "https://localhost:8080/"
        }
      },
      "execution_count": null,
      "outputs": [
        {
          "output_type": "stream",
          "name": "stdout",
          "text": [
            "Ingresa tu criptograma: UFYUPTFHVSP\n",
            "TEXTOSEGURO\n"
          ]
        }
      ]
    },
    {
      "cell_type": "markdown",
      "source": [
        "#### El Procesador de Números\n",
        "\n",
        "\n",
        "    La línea 03: pide al usuario que ingrese una línea llena de cualquier cantidad de números (los números pueden ser flotantes).\n",
        "    La línea 04: divide la línea en una lista con subcadenas.\n",
        "    La línea 05: se inicializa la suma total a cero.\n",
        "    La línea 06: como la conversión de cadena a flotante puede generar una excepción, es mejor continuar con la protección del bloque try-except.\n",
        "    La línea 07: itera a través de la lista...\n",
        "    La línea 08: ... e intenta convertir todos sus elementos en números flotantes; si funciona, aumenta la suma.\n",
        "    La línea 09: todo está bien hasta ahora, así que imprime la suma.\n",
        "    La línea 10: el programa termina aquí en caso de error.\n",
        "    La línea 11: imprime un mensaje de diagnóstico que muestra al usuario el motivo de la falla.\n"
      ],
      "metadata": {
        "id": "Iwn6DRZ0w6cH"
      }
    },
    {
      "cell_type": "code",
      "source": [
        "#Procesador de Números.\n",
        "\n",
        "line = input(\"Ingresa una línea de números, sepáralos con espacios: \")\n",
        "strings = line.split()\n",
        "total = 0\n",
        "try:\n",
        "    for substr in strings:\n",
        "        total += float(substr)\n",
        "    print(\"El total es:\", total)\n",
        "except:\n",
        "    print(substr, \"no es un numero.\")\n"
      ],
      "metadata": {
        "id": "MUrOSd-WxMYO"
      },
      "execution_count": null,
      "outputs": []
    },
    {
      "cell_type": "markdown",
      "source": [
        "#### El Validador IBAN\n",
        "\n",
        "El cuarto programa implementa (en una forma ligeramente simplificada) un algoritmo utilizado por los bancos Europeos para especificar los números de cuenta. El estándar llamado IBAN (Número de cuenta bancaria internacional) proporciona un método simple y bastante confiable para validar los números de cuenta contra errores tipográficos simples que pueden ocurrir durante la reescritura del número, por ejemplo, de documentos en papel, como facturas o facturas en las computadoras.\n",
        "\n",
        "[https://en.wikipedia.org/wiki/International_Bank_Account_Number](https://en.wikipedia.org/wiki/International_Bank_Account_Number)\n",
        "\n",
        "---\n",
        "Un número de cuenta compatible con IBAN consta de:\n",
        "\n",
        "+ Un código de país de dos letras tomado del estándar ISO 3166-1 (por ejemplo, FR para Francia, GB para Gran Bretaña DE para Alemania, y así sucesivamente).\n",
        "\n",
        "- Dos dígitos de verificación utilizados para realizar las verificaciones de validez: pruebas rápidas y simples, pero no totalmente confiables, que muestran si un número es inválido (distorsionado por un error tipográfico) o válido.\n",
        "        \n",
        "* El número de cuenta real (hasta 30 caracteres alfanuméricos; la longitud de esa parte depende del país).\n",
        "\n",
        "\n",
        "El estándar dice que la validación requiere los siguientes pasos (según Wikipedia):\n",
        "\n",
        "* (Paso 1) Verificar que la longitud total del IBAN sea correcta según el país (este programa no lo hará, pero puedes modificar el código para cumplir con este requisito si lo deseas; nota: pero debes enseñar al código a conocer todas las longitudes utilizadas en Europa).\n",
        "\n",
        "* (Paso 2) Mueve los cuatro caracteres iniciales al final de la cadena (es decir, el código del país y los dígitos de verificación).\n",
        "(Paso 3) Reemplaza cada letra en la cadena con dos dígitos, expandiendo así la cadena, donde A = 10, B = 11 ... Z = 35.\n",
        "* (Paso 4) Interpreta la cadena como un entero decimal y calcula el residuo de ese número dividiéndolo entre 97. Si el residuo es 1, pasa la prueba de verificación de dígitos y el IBAN puede ser válido.\n"
      ],
      "metadata": {
        "id": "IrS0WgJNyZ75"
      }
    },
    {
      "cell_type": "code",
      "source": [
        "# Validador IBAN.\n",
        "\n",
        "iban = input(\"Ingresa un IBAN, por favor: \")\n",
        "iban = iban.replace(' ','')\n",
        "\n",
        "if not iban.isalnum():\n",
        "    print(\"Has introducido caracteres no válidos.\")\n",
        "elif len(iban) < 15:\n",
        "    print(\"El IBAN ingresado es demasiado corto.\")\n",
        "elif len(iban) > 31:\n",
        "    print(\"El IBAN ingresado es demasiado largo.\")\n",
        "else:\n",
        "    iban = (iban[4:] + iban[0:4]).upper()\n",
        "    iban2 = ''\n",
        "    for ch in iban:\n",
        "        if ch.isdigit():\n",
        "            iban2 += ch\n",
        "        else:\n",
        "            iban2 += str(10 + ord(ch) - ord('A'))\n",
        "    iban = int(iban2)\n",
        "    if iban % 97 == 1:\n",
        "        print(\"El IBAN ingresado es válido.\")\n",
        "    else:\n",
        "        print(\"El IBAN ingresado no es válido.\")\n",
        "\n",
        "#Datos de prueba:\n",
        "\n",
        "#Inglés: GB72 HBZU 7006 7212 1253 00\n",
        "#Francés: FR76 30003 03620 00020216907 50\n",
        "#Alemán: DE02100100100152517108\n"
      ],
      "metadata": {
        "id": "4NdEt8rdyZWx"
      },
      "execution_count": null,
      "outputs": []
    },
    {
      "cell_type": "markdown",
      "source": [
        "* Línea 03: pide al usuario que ingrese el IBAN (el número puede contener espacios, ya que mejoran significativamente la legibilidad del número...\n",
        "* Línea 04: ... pero remueve los espacios de inmediato).\n",
        "* Línea 05: el IBAN ingresado debe constar solo de dígitos y letras, de lo contrario...\n",
        "* Línea 06: ... muestra un mensaje.\n",
        "* Línea 07: el IBAN no debe tener menos de 15 caracteres (esta es la variante más corta, utilizada en Noruega).\n",
        "* Línea 08: si es más corto, se informa al usuario.\n",
        "* Línea 09: además, el IBAN no puede tener más de 31 caracteres (esta es la variante más larga, utilizada en Malta).\n",
        "* Línea 10: si es más largo, se le informa al usuario.\n",
        "* Línea 11: se comienza con el procesamiento.\n",
        "* Línea 12: se mueven los cuatro caracteres iniciales al final del número y se convierten todas las letras a mayúsculas (paso 02 del algoritmo).\n",
        "* Línea 13: esta es la variable utilizada para completar el número, creada al reemplazar las letras con dígitos (de acuerdo con el paso 03 del algoritmo).\n",
        "* Línea 14: iterar a través del IBAN.\n",
        "* Línea 15: si el carácter es un dígito...\n",
        "* Línea 16: ... se copia.\n",
        "* Línea 17: de lo contrario...\n",
        "* Línea 18: ... conviértelo en dos dígitos (observa cómo se hace aquí).\n",
        "* Línea 19: la forma convertida del IBAN está lista: ahora se convierte en un número entero.\n",
        "* Línea 20: ¿el residuo de la división de iban2 entre 97 es igual a 1?\n",
        "* Línea 21: si es así, entonces el número es correcto.\n",
        "* Línea 22: de lo contrario...\n",
        "* Línea 23: ... el número no es válido."
      ],
      "metadata": {
        "id": "YyHaTUgCOl4I"
      }
    },
    {
      "cell_type": "markdown",
      "source": [
        " Distancia Hamming, que se utiliza para determinar la similitud de dos cadenas. Si este tema te interesa, puedes encontrar más información al respecto aquí: https://en.wikipedia.org/wiki/Hamming_distance. Otra solución del mismo tipo, pero basada en un supuesto diferente, es la Distancia Levenshtein descrita aquí: https://en.wikipedia.org/wiki/Levenshtein_distance."
      ],
      "metadata": {
        "id": "IDn56cVoRcuX"
      }
    },
    {
      "cell_type": "markdown",
      "source": [
        "KeyboardInterrupt\n",
        "Ubicación: BaseException ← KeyboardInterrupt\n",
        "\n",
        "Descripción: una excepción concreta que surge cuando el usuario usa un atajo de teclado diseñado para terminar la ejecución de un programa (Ctrl-C en la mayoría de los Sistemas Operativos); si manejar esta excepción no conduce a la terminación del programa, el programa continúa su ejecución.\n",
        "\n"
      ],
      "metadata": {
        "id": "sGLXkY3zeW_N"
      }
    },
    {
      "cell_type": "code",
      "source": [
        "# Este código no puede ser terminado\n",
        "# presionando Ctrl-C.\n",
        "\n",
        "from time import sleep\n",
        "\n",
        "seconds = 0\n",
        "\n",
        "while True:\n",
        "    try:\n",
        "        print(seconds)\n",
        "        seconds += 1\n",
        "        sleep(1)\n",
        "    except KeyboardInterrupt:\n",
        "        print(\"¡No hagas eso!\")\n"
      ],
      "metadata": {
        "id": "R19g5Un6d72L"
      },
      "execution_count": null,
      "outputs": []
    },
    {
      "cell_type": "markdown",
      "source": [
        "LookupError\n",
        "Ubicación: BaseException ← Exception ← LookupError\n",
        "\n",
        "Descripción: una excepción abstracta que incluye todas las excepciones causadas por errores resultantes de referencias no válidas a diferentes colecciones (listas, diccionarios, tuplas, etc.)."
      ],
      "metadata": {
        "id": "ZXDu8FvDebM6"
      }
    },
    {
      "cell_type": "markdown",
      "source": [
        "MemoryError\n",
        "Ubicación: BaseException ← Exception ← MemoryError\n",
        "\n",
        "Descripción: se genera una excepción concreta cuando no se puede completar una operación debido a la falta de memoria libre."
      ],
      "metadata": {
        "id": "s4-C6muregoz"
      }
    },
    {
      "cell_type": "code",
      "source": [
        "# Este código causa la excepción MemoryError.\n",
        "# Advertencia: el ejecutar este código puede afectar tu Sistema Operativo.\n",
        "# ¡No lo ejecutes en entornos de producción!\n",
        "\n",
        "string = 'x'\n",
        "try:\n",
        "    while True:\n",
        "        string = string + string\n",
        "        print(len(string))\n",
        "except MemoryError:\n",
        "    print('¡Esto no es gracioso!')\n",
        "\n"
      ],
      "metadata": {
        "id": "e8DTGHJzeeP8"
      },
      "execution_count": null,
      "outputs": []
    },
    {
      "cell_type": "markdown",
      "source": [
        "OverflowError\n",
        "Ubicación: BaseException ← Exception ← ArithmeticError ← OverflowError\n",
        "\n",
        "Descripción: una excepción concreta que surge cuando una operación produce un número demasiado grande para ser almacenado con éxito.\n",
        "\n",
        "Código:"
      ],
      "metadata": {
        "id": "HNUlCFtJei4L"
      }
    },
    {
      "cell_type": "code",
      "source": [
        "# El código imprime los valores subsequentes\n",
        "# de exp(k), k = 1, 2, 4, 8, 16, ...\n",
        "\n",
        "from math import exp\n",
        "\n",
        "ex = 1\n",
        "\n",
        "try:\n",
        "    while True:\n",
        "        print(exp(ex))\n",
        "        ex *= 2\n",
        "except OverflowError:\n",
        "    print('El número es demasiado grande.')\n",
        "\n"
      ],
      "metadata": {
        "id": "TOjEhyIIekor"
      },
      "execution_count": null,
      "outputs": []
    },
    {
      "cell_type": "markdown",
      "source": [
        "ImportError\n",
        "Ubicación: BaseException ← Exception ← StandardError ← ImportError\n",
        "\n",
        "Descripción: se genera una excepción concreta cuando falla una operación de importación."
      ],
      "metadata": {
        "id": "Q9EaBST6epZk"
      }
    },
    {
      "cell_type": "code",
      "source": [
        "# Una de estas importaciones fallará, ¿cuál será?\n",
        "\n",
        "try:\n",
        "    import math\n",
        "    import time\n",
        "    import abracadabra\n",
        "\n",
        "except:\n",
        "    print('Una de tus importaciones ha fallado.')\n",
        "\n"
      ],
      "metadata": {
        "id": "Lh6PP_5oeq_q"
      },
      "execution_count": null,
      "outputs": []
    },
    {
      "cell_type": "markdown",
      "source": [
        "KeyError\n",
        "Ubicación: BaseException ← Exception ← LookupError ← KeyError\n",
        "\n",
        "Descripción: una excepción concreta que se genera cuando intentas acceder al elemento inexistente de una colección (por ejemplo, el elemento de un diccionario)."
      ],
      "metadata": {
        "id": "a4vBTq-2etlz"
      }
    },
    {
      "cell_type": "code",
      "source": [
        "# ¿Cómo abusar del diccionario\n",
        "# y cómo lidiar con ello?\n",
        "\n",
        "dictionary = {'a': 'b', 'b': 'c', 'c': 'd'}\n",
        "ch = 'a'\n",
        "\n",
        "try:\n",
        "    while True:\n",
        "        ch = dictionary[ch]\n",
        "        print(ch)\n",
        "except KeyError:\n",
        "    print('No existe tal clave:', ch)\n",
        "\n"
      ],
      "metadata": {
        "id": "NBQQEtAleu0L"
      },
      "execution_count": null,
      "outputs": []
    },
    {
      "cell_type": "markdown",
      "source": [
        "[ https://docs.python.org/3.6/library/exceptions.html.]( https://docs.python.org/3.6/library/exceptions.html.)"
      ],
      "metadata": {
        "id": "Axx-U59Sex6r"
      }
    },
    {
      "cell_type": "markdown",
      "source": [
        "#### Laboratorio \n",
        "\n",
        "Tu tarea es escribir una función capaz de ingresar valores enteros y verificar si están dentro de un rango especificado.\n",
        "\n",
        "* Aceptar tres argumentos: una entrada, un límite inferior aceptable y un límite superior aceptable.\n",
        "* Si el usuario ingresa una cadena que no es un valor entero, la función debe emitir el mensaje Error: entrada incorrecta, y solicitará al usuario que ingrese el valor nuevamente.\n",
        "* Si el usuario ingresa un número que está fuera del rango especificado, la función debe emitir el mensaje Error: el valor no está dentro del rango permitido (min..max) y solicitará al usuario que ingrese el valor nuevamente.\n",
        "* Si el valor de entrada es válido, será regresado como resultado.\n",
        "\n",
        "  \n",
        "\n",
        "> Ingresa un número entre -10 a 10: 100\n",
        "  Error: el valor no está dentro del rango permitido (-10..10)\n",
        "  Ingresa un número entre -10 a 10: asd\n",
        "  Error: entrada incorrecta\n",
        "  Ingresa un número entre -10 a 10: 1\n",
        "  El número es: 1\n",
        "\n"
      ],
      "metadata": {
        "id": "edcb1dtTs_k4"
      }
    },
    {
      "cell_type": "code",
      "source": [
        "def read_int(prompt, min, max):\n",
        "    ok = False\n",
        "    while not ok:\n",
        "        try:\n",
        "            value = int(input(prompt))\n",
        "            ok = True\n",
        "        except ValueError:\n",
        "            print(\"Error: entrada incorrecta\")\n",
        "        if ok:\n",
        "            ok = value >= min and value <= max\n",
        "        if not ok:\n",
        "            print(\"Error: el valor no esta dentro del rango permitido (\" + str(min) + \"..\" + str(max) + \")\")\n",
        "    return value;\n",
        "\n",
        "\n",
        "v = read_int(\"Ingresa un número entre -10 a 10: \", -10, 10)\n",
        "\n",
        "print(\"El número es:\", v)"
      ],
      "metadata": {
        "id": "oEzhpY9Vs_WJ"
      },
      "execution_count": null,
      "outputs": []
    }
  ],
  "metadata": {
    "kernelspec": {
      "display_name": "Python 3.8.2 64-bit",
      "language": "python",
      "name": "python3"
    },
    "language_info": {
      "codemirror_mode": {
        "name": "ipython",
        "version": 3
      },
      "file_extension": ".py",
      "mimetype": "text/x-python",
      "name": "python",
      "nbconvert_exporter": "python",
      "pygments_lexer": "ipython3",
      "version": "3.8.2"
    },
    "orig_nbformat": 4,
    "vscode": {
      "interpreter": {
        "hash": "0adcc2737ebf6a4a119f135174df96668767fca1ef1112612db5ecadf2b6d608"
      }
    },
    "colab": {
      "provenance": [],
      "include_colab_link": true
    }
  },
  "nbformat": 4,
  "nbformat_minor": 0
}