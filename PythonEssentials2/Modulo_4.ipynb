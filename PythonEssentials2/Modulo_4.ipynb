{
  "cells": [
    {
      "cell_type": "markdown",
      "metadata": {
        "id": "XT3tRzoCuHy1"
      },
      "source": [
        "# Fundamentos de Python 2:\n",
        "## Módulo 4\n"
      ]
    }
  ],
  "metadata": {
    "colab": {
      "authorship_tag": "ABX9TyOC3CoIx4QLaLMuY02v8h/N",
      "provenance": []
    },
    "kernelspec": {
      "display_name": "Python 3",
      "name": "python3"
    },
    "language_info": {
      "name": "python"
    }
  },
  "nbformat": 4,
  "nbformat_minor": 0
}
