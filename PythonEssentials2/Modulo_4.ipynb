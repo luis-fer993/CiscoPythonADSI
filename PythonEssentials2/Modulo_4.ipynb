{
  "nbformat": 4,
  "nbformat_minor": 0,
  "metadata": {
    "colab": {
      "provenance": [],
      "authorship_tag": "ABX9TyOd2mvwd0e8Oxz9ugisjno2",
      "include_colab_link": true
    },
    "kernelspec": {
      "name": "python3",
      "display_name": "Python 3"
    },
    "language_info": {
      "name": "python"
    }
  },
  "cells": [
    {
      "cell_type": "markdown",
      "metadata": {
        "id": "view-in-github",
        "colab_type": "text"
      },
      "source": [
        "<a href=\"https://colab.research.google.com/github/luis-fer993/CiscoPythonADSI/blob/master/PythonEssentials2/Modulo_4.ipynb\" target=\"_parent\"><img src=\"https://colab.research.google.com/assets/colab-badge.svg\" alt=\"Open In Colab\"/></a>"
      ]
    },
    {
      "cell_type": "markdown",
      "source": [],
      "metadata": {
        "id": "XT3tRzoCuHy1"
      }
    },
    {
      "cell_type": "code",
      "execution_count": null,
      "metadata": {
        "id": "zkIOIKE1W8oK"
      },
      "outputs": [],
      "source": [
        "name = input('nombre file:')\n",
        "text = open(name+'.txt', \"wt\", encoding = \"utf-8\") \n",
        "\n",
        "for i in range(1,4):\n",
        "  text.write(\"#\" + str(i) +\" \"+input('ingrese valor '+str(i)+' ')+'\\n')\n",
        "\n",
        "text.close()\n",
        "\n",
        "text= open(name+'.txt', \"rt\", encoding = \"utf-8\")\n",
        "letras = \"abcdefghijklmnopqrstuvwxyzáéíñóúu\"#3 inic \n",
        "diccionarioLetras={}\n",
        "for i in letras:\n",
        "  diccionarioLetras[i] = 0\n",
        "\n",
        "#a=97\n",
        "\n",
        "#CONTADOR\n",
        "for poscicion in text.read():\n",
        "  for caracter in diccionarioLetras.keys():\n",
        "    if caracter in poscicion.lower():\n",
        "      diccionarioLetras[caracter] += 1\n",
        "\n",
        "def sort(dic):\n",
        "  ordenado={};values=[]\n",
        "  for posicion in dic.values():\n",
        "    values.append(poscicion)\n",
        "\n",
        "  sorted(dic)\n",
        "\n",
        "def his(dic):\n",
        "  print('\\nconteo:\\n')\n",
        "  if dic.values() != 0:\n",
        "    ordenado={}\n",
        "    for letra in dic.keys():\n",
        "      for numero in sorted(dic.values(),reverse=True):\n",
        "        ordenado[letra]=numero\n",
        "        print(ordenado)\n",
        "        \n",
        "      \n",
        "      \n",
        "    #for char in sorted(diccidonarioLetras.values(), reverse=True):\n",
        "      #print(char)\n",
        "\n",
        "\n",
        "his(diccionarioLetras)\n",
        "\n",
        "\n",
        "\n",
        "#for letra in diccionarioLetras.keys():\n",
        "#  print(letra,' = ', diccionarioLetras[letra] )\n",
        "text.close()\n",
        "text= open(name+'.txt', \"rt\", encoding = \"utf-8\")\n",
        "print(text.read())\n",
        "text.close()"
      ]
    },
    {
      "cell_type": "code",
      "source": [
        "def his(dic):\n",
        "  print('\\nconteo:\\n')\n",
        "  if dic.values() != 0:\n",
        "    for i in dic.keys():\n",
        "      for letra in sorted(dic.values(), reverse=True):\n",
        "        if letra == 0 :valor= ''\n",
        "        else:valor= letra\n",
        "        print(dic[i],' -> ', valor, letra * ' * ' )\n",
        "      print('\\nordenamiento de numeros:\\n')\n",
        "\n",
        "\n",
        "def his(dic):\n",
        "  print('\\nconteo:\\n')\n",
        "  if dic.values() != 0:\n",
        "    ordenado={}\n",
        "    for numero in sorted(dic.values(), reverse=True):\n",
        "      for letra in dic.keys():\n",
        "        ordenado.pop()\n"
      ],
      "metadata": {
        "id": "_ssvHx3Z3vnO"
      },
      "execution_count": null,
      "outputs": []
    }
  ]
}