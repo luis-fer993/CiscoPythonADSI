{
 "cells": [
  {
   "cell_type": "markdown",
   "metadata": {},
   "source": [
    "# Ejercicios Modulos 3-4 \n",
    "---\n",
    " \n",
    "##### Relizado con:\n",
    "- Eduar Alejandro Paredez D."
   ]
  },
  {
   "cell_type": "code",
   "execution_count": null,
   "metadata": {},
   "outputs": [],
   "source": [
    "name = input('nombre file:')\n",
    "text = open(name+'.txt', \"wt\", encoding = \"utf-8\") \n",
    "\n",
    "for i in range(1,4):\n",
    "  text.write(\"#\" + str(i) +\" \"+input('ingrese valor '+str(i)+' ')+'\\n')\n",
    "\n",
    "text.close()\n",
    "\n",
    "text= open(name+'.txt', \"rt\", encoding = \"utf-8\")\n",
    "letras = \"abcdefghijklmnopqrstuvwxyzáéíñóúu\"#3 inic \n",
    "diccionarioLetras={}\n",
    "for i in letras:\n",
    "  diccionarioLetras[i] = 0\n",
    "\n",
    "#CONTADOR\n",
    "for poscicion in text.read():\n",
    "  for caracter in diccionarioLetras.keys():\n",
    "    if caracter in poscicion.lower():\n",
    "      diccionarioLetras[caracter] += 1\n",
    "\n",
    "def crear_histograma(diccionarioLetras):\n",
    "  if diccionarioLetras.values() != 0:\n",
    "    for letra in sorted(diccionarioLetras.keys()):\n",
    "      if diccionarioLetras[letra] == 0:valor = ' '\n",
    "      else:valor = diccionarioLetras[letra]            \n",
    "      print(letra, ' -> ', valor, diccionarioLetras[letra] * ' * ')\n",
    "    print('\\nordenado:\\n')\n",
    "    for char in sorted(diccionarioLetras.values(), reverse=True):\n",
    "      print(char)\n",
    "\n",
    "crear_histograma(diccionarioLetras)\n",
    "\n",
    "text.close()\n",
    "text= open(name+'.txt', \"rt\", encoding = \"utf-8\")\n",
    "print('\\nContenido Archivo\\n',text.read())\n",
    "text.close()"
   ]
  }
 ],
 "metadata": {
  "kernelspec": {
   "display_name": "Python 3.8.2 64-bit",
   "language": "python",
   "name": "python3"
  },
  "language_info": {
   "codemirror_mode": {
    "name": "ipython",
    "version": 3
   },
   "file_extension": ".py",
   "mimetype": "text/x-python",
   "name": "python",
   "nbconvert_exporter": "python",
   "pygments_lexer": "ipython3",
   "version": "3.8.2"
  },
  "orig_nbformat": 4,
  "vscode": {
   "interpreter": {
    "hash": "0adcc2737ebf6a4a119f135174df96668767fca1ef1112612db5ecadf2b6d608"
   }
  }
 },
 "nbformat": 4,
 "nbformat_minor": 2
}
